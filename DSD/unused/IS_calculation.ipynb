{
 "cells": [
  {
   "cell_type": "code",
   "execution_count": null,
   "metadata": {},
   "outputs": [],
   "source": [
    "import numpy as np\n",
    "import tensorflow as tf\n",
    "from tensorflow.keras.preprocessing.image import ImageDataGenerator\n",
    "from pathlib import Path\n",
    "import os\n",
    "import tqdm \n",
    "# Load the pre-trained InceptionV3 model + higher level layers\n",
    "model = tf.keras.applications.InceptionV3(include_top=True, weights='imagenet', input_tensor=None, input_shape=None)\n",
    "\n",
    "def inception_score(preds, num_splits=1):\n",
    "    scores = []\n",
    "    for i in range(num_splits):\n",
    "        part = preds[(i * preds.shape[0] // num_splits):((i + 1) * preds.shape[0] // num_splits), :]\n",
    "        kl = part * (np.log(part) - np.log(np.expand_dims(np.mean(part, 0), 0)))\n",
    "        kl = np.mean(np.sum(kl, 1))\n",
    "        scores.append(np.exp(kl))\n",
    "        \n",
    "    return np.mean(scores), np.std(scores)\n",
    "\n",
    "import os\n",
    "from contextlib import redirect_stdout\n",
    "\n",
    "\n",
    "def load_images_in_batches(base_folder):\n",
    "    datagen = ImageDataGenerator(rescale=1./255)  # Rescale the pixel values to [0, 1]\n",
    "\n",
    "    with open(os.devnull, 'w') as fnull:\n",
    "        with redirect_stdout(fnull):\n",
    "            generator = datagen.flow_from_directory(\n",
    "                base_folder,\n",
    "                target_size=(299, 299),\n",
    "                batch_size=500,\n",
    "                class_mode=None,  # We do not need labels, as we are only interested in predictions\n",
    "                shuffle=False  # Do not shuffle to keep the order of predictions coherent\n",
    "            )\n",
    "    \n",
    "    return generator\n",
    "\n",
    "cwd = os.getcwd()\n",
    "base_dir = f\"{cwd}/Saved_Images\"\n",
    "\n"
   ]
  },
  {
   "cell_type": "code",
   "execution_count": 2,
   "metadata": {},
   "outputs": [
    {
     "name": "stderr",
     "output_type": "stream",
     "text": [
      "\r 97%|█████████▋| 58/60 [02:32<00:05,  2.62s/it]"
     ]
    },
    {
     "name": "stdout",
     "output_type": "stream",
     "text": [
      "Inception Score:  4.220532 Standard Deviation:  0.20474377\n"
     ]
    },
    {
     "name": "stderr",
     "output_type": "stream",
     "text": [
      "\n"
     ]
    }
   ],
   "source": [
    "from tensorflow.keras import backend as K\n",
    "K.clear_session()\n",
    "base_folder = f\"{base_dir}/gradual_linear/2\"  # Replace with the actual path to your images\n",
    "image_generator = load_images_in_batches(base_folder)\n",
    "\n",
    "from IPython.display import clear_output\n",
    "import tqdm\n",
    "\n",
    "all_preds = []\n",
    "for images_batch in tqdm.tqdm(image_generator):\n",
    "    preds_batch = model.predict(images_batch)\n",
    "    all_preds.extend(preds_batch)\n",
    "    \n",
    "    clear_output(wait=True)  # This will clear the output of the cell\n",
    "    \n",
    "    if image_generator.batch_index == 59:  # If we have seen all images break from the loop\n",
    "        break\n",
    "\n",
    "\n",
    "mean, std = inception_score(np.array(all_preds))\n",
    "print(\"Inception Score: \", mean, \"Standard Deviation: \", std)\n",
    "import gc\n",
    "\n",
    "# Delete variables\n",
    "del all_preds\n",
    "del image_generator\n",
    "del preds_batch\n",
    "del images_batch\n",
    "\n",
    "# Force garbage collector to release unreferenced memory\n",
    "gc.collect()\n",
    "\n",
    "from tensorflow.keras import backend as K\n",
    "K.clear_session()\n"
   ]
  },
  {
   "cell_type": "code",
   "execution_count": null,
   "metadata": {},
   "outputs": [
    {
     "name": "stderr",
     "output_type": "stream",
     "text": [
      "\r 97%|█████████▋| 58/60 [02:20<00:04,  2.43s/it]"
     ]
    },
    {
     "name": "stdout",
     "output_type": "stream",
     "text": [
      "Inception Score:  43.35791 Standard Deviation:  4.249121\n"
     ]
    },
    {
     "name": "stderr",
     "output_type": "stream",
     "text": [
      "\n"
     ]
    },
    {
     "data": {
      "text/plain": [
       "8929"
      ]
     },
     "execution_count": 3,
     "metadata": {},
     "output_type": "execute_result"
    }
   ],
   "source": [
    "base_folder = f\"{base_dir}/gradual_linear/4\"  # Replace with the actual path to your images\n",
    "image_generator = load_images_in_batches(base_folder)\n",
    "\n",
    "from IPython.display import clear_output\n",
    "import tqdm\n",
    "\n",
    "all_preds = []\n",
    "for images_batch in tqdm.tqdm(image_generator):\n",
    "    preds_batch = model.predict(images_batch)\n",
    "    all_preds.extend(preds_batch)\n",
    "    \n",
    "    clear_output(wait=True)  # This will clear the output of the cell\n",
    "    \n",
    "    if image_generator.batch_index == 59:  # If we have seen all images break from the loop\n",
    "        break\n",
    "\n",
    "\n",
    "mean, std = inception_score(np.array(all_preds))\n",
    "print(\"Inception Score: \", mean, \"Standard Deviation: \", std)\n",
    "\n",
    "import gc\n",
    "\n",
    "# Delete variables\n",
    "del all_preds\n",
    "del image_generator\n",
    "del preds_batch\n",
    "del images_batch\n",
    "\n",
    "# Force garbage collector to release unreferenced memory\n",
    "gc.collect()\n",
    "\n",
    "from tensorflow.keras import backend as K\n",
    "K.clear_session()"
   ]
  },
  {
   "cell_type": "code",
   "execution_count": null,
   "metadata": {},
   "outputs": [
    {
     "name": "stderr",
     "output_type": "stream",
     "text": [
      "\r 97%|█████████▋| 58/60 [02:23<00:04,  2.48s/it]"
     ]
    },
    {
     "name": "stdout",
     "output_type": "stream",
     "text": [
      "Inception Score:  60.032013 Standard Deviation:  4.6922565\n"
     ]
    },
    {
     "name": "stderr",
     "output_type": "stream",
     "text": [
      "\n"
     ]
    }
   ],
   "source": [
    "base_folder = f\"{base_dir}/gradual_linear/8\"  # Replace with the actual path to your images\n",
    "image_generator = load_images_in_batches(base_folder)\n",
    "\n",
    "from IPython.display import clear_output\n",
    "import tqdm\n",
    "\n",
    "all_preds = []\n",
    "for images_batch in tqdm.tqdm(image_generator):\n",
    "    preds_batch = model.predict(images_batch)\n",
    "    all_preds.extend(preds_batch)\n",
    "    \n",
    "    clear_output(wait=True)  # This will clear the output of the cell\n",
    "    \n",
    "    if image_generator.batch_index == 59:  # If we have seen all images break from the loop\n",
    "        break\n",
    "\n",
    "\n",
    "mean, std = inception_score(np.array(all_preds))\n",
    "print(\"Inception Score: \", mean, \"Standard Deviation: \", std)\n",
    "\n",
    "import gc\n",
    "\n",
    "# Delete variables\n",
    "del all_preds\n",
    "del image_generator\n",
    "del preds_batch\n",
    "del images_batch\n",
    "from tensorflow.keras import backend as K\n",
    "K.clear_session()"
   ]
  },
  {
   "cell_type": "code",
   "execution_count": null,
   "metadata": {},
   "outputs": [
    {
     "name": "stderr",
     "output_type": "stream",
     "text": [
      "\r 97%|█████████▋| 58/60 [02:29<00:05,  2.58s/it]"
     ]
    },
    {
     "name": "stdout",
     "output_type": "stream",
     "text": [
      "Inception Score:  4.038913 Standard Deviation:  0.2951082\n"
     ]
    },
    {
     "name": "stderr",
     "output_type": "stream",
     "text": [
      "\n"
     ]
    }
   ],
   "source": [
    "base_folder = f\"{base_dir}/gradual_exp/2\"  # Replace with the actual path to your images\n",
    "image_generator = load_images_in_batches(base_folder)\n",
    "\n",
    "from IPython.display import clear_output\n",
    "import tqdm\n",
    "\n",
    "all_preds = []\n",
    "for images_batch in tqdm.tqdm(image_generator):\n",
    "    preds_batch = model.predict(images_batch)\n",
    "    all_preds.extend(preds_batch)\n",
    "    \n",
    "    clear_output(wait=True)  # This will clear the output of the cell\n",
    "    \n",
    "    if image_generator.batch_index == 59:  # If we have seen all images break from the loop\n",
    "        break\n",
    "\n",
    "\n",
    "mean, std = inception_score(np.array(all_preds))\n",
    "print(\"Inception Score: \", mean, \"Standard Deviation: \", std)\n",
    "\n",
    "# Delete variables\n",
    "del all_preds\n",
    "del image_generator\n",
    "del preds_batch\n",
    "del images_batch\n",
    "from tensorflow.keras import backend as K\n",
    "K.clear_session()"
   ]
  },
  {
   "cell_type": "code",
   "execution_count": null,
   "metadata": {},
   "outputs": [
    {
     "name": "stderr",
     "output_type": "stream",
     "text": [
      "\r 97%|█████████▋| 58/60 [02:32<00:05,  2.63s/it]"
     ]
    },
    {
     "name": "stdout",
     "output_type": "stream",
     "text": [
      "Inception Score:  42.879696 Standard Deviation:  3.6232615\n"
     ]
    },
    {
     "name": "stderr",
     "output_type": "stream",
     "text": [
      "\n"
     ]
    }
   ],
   "source": [
    "base_folder = f\"{base_dir}/gradual_exp/4\"  # Replace with the actual path to your images\n",
    "image_generator = load_images_in_batches(base_folder)\n",
    "\n",
    "from IPython.display import clear_output\n",
    "import tqdm\n",
    "\n",
    "all_preds = []\n",
    "for images_batch in tqdm.tqdm(image_generator):\n",
    "    preds_batch = model.predict(images_batch)\n",
    "    all_preds.extend(preds_batch)\n",
    "    \n",
    "    clear_output(wait=True)  # This will clear the output of the cell\n",
    "    \n",
    "    if image_generator.batch_index == 59:  # If we have seen all images break from the loop\n",
    "        break\n",
    "\n",
    "\n",
    "mean, std = inception_score(np.array(all_preds))\n",
    "print(\"Inception Score: \", mean, \"Standard Deviation: \", std)\n",
    "\n",
    "# Delete variables\n",
    "del all_preds\n",
    "del image_generator\n",
    "del preds_batch\n",
    "del images_batch\n",
    "from tensorflow.keras import backend as K\n",
    "K.clear_session()"
   ]
  },
  {
   "cell_type": "code",
   "execution_count": 3,
   "metadata": {},
   "outputs": [
    {
     "name": "stderr",
     "output_type": "stream",
     "text": [
      "\r 97%|█████████▋| 58/60 [02:25<00:05,  2.50s/it]"
     ]
    },
    {
     "name": "stdout",
     "output_type": "stream",
     "text": [
      "Inception Score:  43.703907 Standard Deviation:  2.8974264\n"
     ]
    },
    {
     "name": "stderr",
     "output_type": "stream",
     "text": [
      "\n"
     ]
    }
   ],
   "source": [
    "base_folder = f\"{base_dir}/gradual_exp/8\"  # Replace with the actual path to your images\n",
    "image_generator = load_images_in_batches(base_folder)\n",
    "\n",
    "from IPython.display import clear_output\n",
    "import tqdm\n",
    "\n",
    "all_preds = []\n",
    "for images_batch in tqdm.tqdm(image_generator):\n",
    "    preds_batch = model.predict(images_batch)\n",
    "    all_preds.extend(preds_batch)\n",
    "    \n",
    "    clear_output(wait=True)  # This will clear the output of the cell\n",
    "    \n",
    "    if image_generator.batch_index == 59:  # If we have seen all images break from the loop\n",
    "        break\n",
    "\n",
    "\n",
    "mean, std = inception_score(np.array(all_preds))\n",
    "print(\"Inception Score: \", mean, \"Standard Deviation: \", std)\n",
    "\n",
    "# Delete variables\n",
    "del all_preds\n",
    "del image_generator\n",
    "del preds_batch\n",
    "del images_batch\n",
    "from tensorflow.keras import backend as K\n",
    "K.clear_session()"
   ]
  },
  {
   "cell_type": "code",
   "execution_count": 2,
   "metadata": {},
   "outputs": [
    {
     "name": "stderr",
     "output_type": "stream",
     "text": [
      "\r 97%|█████████▋| 58/60 [02:31<00:05,  2.61s/it]"
     ]
    },
    {
     "name": "stdout",
     "output_type": "stream",
     "text": [
      "Inception Score:  7.3050127 Standard Deviation:  0.43752298\n"
     ]
    },
    {
     "name": "stderr",
     "output_type": "stream",
     "text": [
      "\n"
     ]
    }
   ],
   "source": [
    "base_folder = f\"{base_dir}/naive/2\"  # Replace with the actual path to your images\n",
    "image_generator = load_images_in_batches(base_folder)\n",
    "\n",
    "from IPython.display import clear_output\n",
    "import tqdm\n",
    "\n",
    "all_preds = []\n",
    "for images_batch in tqdm.tqdm(image_generator):\n",
    "    preds_batch = model.predict(images_batch)\n",
    "    all_preds.extend(preds_batch)\n",
    "    \n",
    "    clear_output(wait=True)  # This will clear the output of the cell\n",
    "    \n",
    "    if image_generator.batch_index == 59:  # If we have seen all images break from the loop\n",
    "        break\n",
    "\n",
    "\n",
    "mean, std = inception_score(np.array(all_preds))\n",
    "print(\"Inception Score: \", mean, \"Standard Deviation: \", std)\n",
    "\n",
    "# Delete variables\n",
    "del all_preds\n",
    "del image_generator\n",
    "del preds_batch\n",
    "del images_batch\n",
    "from tensorflow.keras import backend as K\n",
    "K.clear_session()"
   ]
  },
  {
   "cell_type": "code",
   "execution_count": 3,
   "metadata": {},
   "outputs": [
    {
     "name": "stderr",
     "output_type": "stream",
     "text": [
      "\r 97%|█████████▋| 58/60 [02:33<00:05,  2.64s/it]"
     ]
    },
    {
     "name": "stdout",
     "output_type": "stream",
     "text": [
      "Inception Score:  55.595642 Standard Deviation:  5.8063235\n"
     ]
    },
    {
     "name": "stderr",
     "output_type": "stream",
     "text": [
      "\n"
     ]
    }
   ],
   "source": [
    "base_folder = f\"{base_dir}/naive/4\"  # Replace with the actual path to your images\n",
    "image_generator = load_images_in_batches(base_folder)\n",
    "\n",
    "from IPython.display import clear_output\n",
    "import tqdm\n",
    "\n",
    "all_preds = []\n",
    "for images_batch in tqdm.tqdm(image_generator):\n",
    "    preds_batch = model.predict(images_batch)\n",
    "    all_preds.extend(preds_batch)\n",
    "    \n",
    "    clear_output(wait=True)  # This will clear the output of the cell\n",
    "    \n",
    "    if image_generator.batch_index == 59:  # If we have seen all images break from the loop\n",
    "        break\n",
    "\n",
    "\n",
    "mean, std = inception_score(np.array(all_preds))\n",
    "print(\"Inception Score: \", mean, \"Standard Deviation: \", std)\n",
    "\n",
    "# Delete variables\n",
    "del all_preds\n",
    "del image_generator\n",
    "del preds_batch\n",
    "del images_batch\n",
    "from tensorflow.keras import backend as K\n",
    "K.clear_session()"
   ]
  },
  {
   "cell_type": "code",
   "execution_count": 2,
   "metadata": {},
   "outputs": [
    {
     "name": "stderr",
     "output_type": "stream",
     "text": [
      "\r 97%|█████████▋| 58/60 [02:25<00:05,  2.51s/it]"
     ]
    },
    {
     "name": "stdout",
     "output_type": "stream",
     "text": [
      "Inception Score:  411.1976 Standard Deviation:  0.0\n"
     ]
    },
    {
     "name": "stderr",
     "output_type": "stream",
     "text": [
      "\n"
     ]
    }
   ],
   "source": [
    "base_folder = f\"{base_dir}/naive/8\"  # Replace with the actual path to your images\n",
    "image_generator = load_images_in_batches(base_folder)\n",
    "\n",
    "from IPython.display import clear_output\n",
    "import tqdm\n",
    "\n",
    "all_preds = []\n",
    "for images_batch in tqdm.tqdm(image_generator):\n",
    "    preds_batch = model.predict(images_batch)\n",
    "    all_preds.extend(preds_batch)\n",
    "    \n",
    "    clear_output(wait=True)  # This will clear the output of the cell\n",
    "    \n",
    "    if image_generator.batch_index == 59:  # If we have seen all images break from the loop\n",
    "        break\n",
    "\n",
    "\n",
    "mean, std = inception_score(np.array(all_preds))\n",
    "print(\"Inception Score: \", mean, \"Standard Deviation: \", std)\n",
    "\n",
    "# Delete variables\n",
    "del all_preds\n",
    "del image_generator\n",
    "del preds_batch\n",
    "del images_batch\n",
    "from tensorflow.keras import backend as K\n",
    "K.clear_session()"
   ]
  },
  {
   "cell_type": "code",
   "execution_count": 3,
   "metadata": {},
   "outputs": [
    {
     "name": "stderr",
     "output_type": "stream",
     "text": [
      "\r 97%|█████████▋| 58/60 [02:37<00:05,  2.72s/it]"
     ]
    },
    {
     "name": "stdout",
     "output_type": "stream",
     "text": [
      "Inception Score:  4.8688717 Standard Deviation:  0.2491246\n"
     ]
    },
    {
     "name": "stderr",
     "output_type": "stream",
     "text": [
      "\n"
     ]
    }
   ],
   "source": [
    "base_folder = f\"{base_dir}/iterative/2\"  # Replace with the actual path to your images\n",
    "image_generator = load_images_in_batches(base_folder)\n",
    "\n",
    "from IPython.display import clear_output\n",
    "import tqdm\n",
    "\n",
    "all_preds = []\n",
    "for images_batch in tqdm.tqdm(image_generator):\n",
    "    preds_batch = model.predict(images_batch)\n",
    "    all_preds.extend(preds_batch)\n",
    "    \n",
    "    clear_output(wait=True)  # This will clear the output of the cell\n",
    "    \n",
    "    if image_generator.batch_index == 59:  # If we have seen all images break from the loop\n",
    "        break\n",
    "\n",
    "\n",
    "mean, std = inception_score(np.array(all_preds))\n",
    "print(\"Inception Score: \", mean, \"Standard Deviation: \", std)\n",
    "\n",
    "# Delete variables\n",
    "del all_preds\n",
    "del image_generator\n",
    "del preds_batch\n",
    "del images_batch\n",
    "from tensorflow.keras import backend as K\n",
    "K.clear_session()"
   ]
  },
  {
   "cell_type": "code",
   "execution_count": 2,
   "metadata": {},
   "outputs": [
    {
     "name": "stderr",
     "output_type": "stream",
     "text": [
      "\r 97%|█████████▋| 58/60 [02:34<00:05,  2.66s/it]"
     ]
    },
    {
     "name": "stdout",
     "output_type": "stream",
     "text": [
      "Inception Score:  44.277657 Standard Deviation:  4.6201406\n"
     ]
    },
    {
     "name": "stderr",
     "output_type": "stream",
     "text": [
      "\n"
     ]
    }
   ],
   "source": [
    "base_folder = f\"{base_dir}/iterative/4\"  # Replace with the actual path to your images\n",
    "image_generator = load_images_in_batches(base_folder)\n",
    "\n",
    "from IPython.display import clear_output\n",
    "import tqdm\n",
    "\n",
    "all_preds = []\n",
    "for images_batch in tqdm.tqdm(image_generator):\n",
    "    preds_batch = model.predict(images_batch)\n",
    "    all_preds.extend(preds_batch)\n",
    "    \n",
    "    clear_output(wait=True)  # This will clear the output of the cell\n",
    "    \n",
    "    if image_generator.batch_index == 59:  # If we have seen all images break from the loop\n",
    "        break\n",
    "\n",
    "\n",
    "mean, std = inception_score(np.array(all_preds))\n",
    "print(\"Inception Score: \", mean, \"Standard Deviation: \", std)\n",
    "\n",
    "# Delete variables\n",
    "del all_preds\n",
    "del image_generator\n",
    "del preds_batch\n",
    "del images_batch\n",
    "from tensorflow.keras import backend as K\n",
    "K.clear_session()"
   ]
  },
  {
   "cell_type": "code",
   "execution_count": 2,
   "metadata": {},
   "outputs": [
    {
     "name": "stderr",
     "output_type": "stream",
     "text": [
      "\r 97%|█████████▋| 58/60 [02:35<00:05,  2.69s/it]"
     ]
    },
    {
     "name": "stdout",
     "output_type": "stream",
     "text": [
      "Inception Score:  69.28398 Standard Deviation:  5.3542275\n"
     ]
    },
    {
     "name": "stderr",
     "output_type": "stream",
     "text": [
      "\n"
     ]
    }
   ],
   "source": [
    "base_folder = f\"{base_dir}/iterative/8\"  # Replace with the actual path to your images\n",
    "image_generator = load_images_in_batches(base_folder)\n",
    "\n",
    "from IPython.display import clear_output\n",
    "import tqdm\n",
    "\n",
    "all_preds = []\n",
    "for images_batch in tqdm.tqdm(image_generator):\n",
    "    preds_batch = model.predict(images_batch)\n",
    "    all_preds.extend(preds_batch)\n",
    "    \n",
    "    clear_output(wait=True)  # This will clear the output of the cell\n",
    "    \n",
    "    if image_generator.batch_index == 59:  # If we have seen all images break from the loop\n",
    "        break\n",
    "\n",
    "\n",
    "mean, std = inception_score(np.array(all_preds))\n",
    "print(\"Inception Score: \", mean, \"Standard Deviation: \", std)\n",
    "\n",
    "# Delete variables\n",
    "del all_preds\n",
    "del image_generator\n",
    "del preds_batch\n",
    "del images_batch\n",
    "from tensorflow.keras import backend as K\n",
    "K.clear_session()"
   ]
  },
  {
   "cell_type": "code",
   "execution_count": 2,
   "metadata": {},
   "outputs": [
    {
     "name": "stderr",
     "output_type": "stream",
     "text": [
      "\r 97%|█████████▋| 58/60 [02:44<00:05,  2.84s/it]"
     ]
    },
    {
     "name": "stdout",
     "output_type": "stream",
     "text": [
      "Inception Score:  4.281076 Standard Deviation:  0.28497002\n"
     ]
    },
    {
     "name": "stderr",
     "output_type": "stream",
     "text": [
      "\n"
     ]
    }
   ],
   "source": [
    "base_folder = f\"{base_dir}/TSD/2\"  # Replace with the actual path to your images\n",
    "image_generator = load_images_in_batches(base_folder)\n",
    "\n",
    "from IPython.display import clear_output\n",
    "import tqdm\n",
    "\n",
    "all_preds = []\n",
    "for images_batch in tqdm.tqdm(image_generator):\n",
    "    preds_batch = model.predict(images_batch)\n",
    "    all_preds.extend(preds_batch)\n",
    "    \n",
    "    clear_output(wait=True)  # This will clear the output of the cell\n",
    "    \n",
    "    if image_generator.batch_index == 59:  # If we have seen all images break from the loop\n",
    "        break\n",
    "\n",
    "\n",
    "mean, std = inception_score(np.array(all_preds))\n",
    "print(\"Inception Score: \", mean, \"Standard Deviation: \", std)\n",
    "\n",
    "# Delete variables\n",
    "del all_preds\n",
    "del image_generator\n",
    "del preds_batch\n",
    "del images_batch\n",
    "from tensorflow.keras import backend as K\n",
    "K.clear_session()"
   ]
  },
  {
   "cell_type": "code",
   "execution_count": 2,
   "metadata": {},
   "outputs": [
    {
     "name": "stderr",
     "output_type": "stream",
     "text": [
      "\r 97%|█████████▋| 58/60 [02:41<00:05,  2.79s/it]"
     ]
    },
    {
     "name": "stdout",
     "output_type": "stream",
     "text": [
      "Inception Score:  35.317135 Standard Deviation:  4.230696\n"
     ]
    },
    {
     "name": "stderr",
     "output_type": "stream",
     "text": [
      "\n"
     ]
    }
   ],
   "source": [
    "base_folder = f\"{base_dir}/TSD/4\"  # Replace with the actual path to your images\n",
    "image_generator = load_images_in_batches(base_folder)\n",
    "\n",
    "from IPython.display import clear_output\n",
    "import tqdm\n",
    "\n",
    "all_preds = []\n",
    "for images_batch in tqdm.tqdm(image_generator):\n",
    "    preds_batch = model.predict(images_batch)\n",
    "    all_preds.extend(preds_batch)\n",
    "    \n",
    "    clear_output(wait=True)  # This will clear the output of the cell\n",
    "    \n",
    "    if image_generator.batch_index == 59:  # If we have seen all images break from the loop\n",
    "        break\n",
    "\n",
    "\n",
    "mean, std = inception_score(np.array(all_preds))\n",
    "print(\"Inception Score: \", mean, \"Standard Deviation: \", std)\n",
    "\n",
    "# Delete variables\n",
    "del all_preds\n",
    "del image_generator\n",
    "del preds_batch\n",
    "del images_batch\n",
    "from tensorflow.keras import backend as K\n",
    "K.clear_session()"
   ]
  },
  {
   "cell_type": "code",
   "execution_count": 2,
   "metadata": {},
   "outputs": [
    {
     "name": "stderr",
     "output_type": "stream",
     "text": [
      "\r 97%|█████████▋| 58/60 [02:39<00:05,  2.74s/it]"
     ]
    },
    {
     "name": "stdout",
     "output_type": "stream",
     "text": [
      "Inception Score:  67.8745 Standard Deviation:  6.033939\n"
     ]
    },
    {
     "name": "stderr",
     "output_type": "stream",
     "text": [
      "\n"
     ]
    }
   ],
   "source": [
    "base_folder = f\"{base_dir}/TSD/8\"  # Replace with the actual path to your images\n",
    "image_generator = load_images_in_batches(base_folder)\n",
    "\n",
    "from IPython.display import clear_output\n",
    "import tqdm\n",
    "\n",
    "all_preds = []\n",
    "for images_batch in tqdm.tqdm(image_generator):\n",
    "    preds_batch = model.predict(images_batch)\n",
    "    all_preds.extend(preds_batch)\n",
    "    \n",
    "    clear_output(wait=True)  # This will clear the output of the cell\n",
    "    \n",
    "    if image_generator.batch_index == 59:  # If we have seen all images break from the loop\n",
    "        break\n",
    "\n",
    "\n",
    "mean, std = inception_score(np.array(all_preds))\n",
    "print(\"Inception Score: \", mean, \"Standard Deviation: \", std)\n",
    "\n",
    "# Delete variables\n",
    "del all_preds\n",
    "del image_generator\n",
    "del preds_batch\n",
    "del images_batch\n",
    "from tensorflow.keras import backend as K\n",
    "K.clear_session()"
   ]
  },
  {
   "cell_type": "code",
   "execution_count": 2,
   "metadata": {},
   "outputs": [
    {
     "name": "stderr",
     "output_type": "stream",
     "text": [
      "\r 85%|████████▌ | 58/68 [02:44<00:28,  2.84s/it]"
     ]
    },
    {
     "name": "stdout",
     "output_type": "stream",
     "text": [
      "Inception Score:  3.5571697 Standard Deviation:  0.20799305\n"
     ]
    },
    {
     "name": "stderr",
     "output_type": "stream",
     "text": [
      "\n"
     ]
    }
   ],
   "source": [
    "base_folder = f\"{base_dir}/cin_original/2\"  # Replace with the actual path to your images\n",
    "image_generator = load_images_in_batches(base_folder)\n",
    "\n",
    "from IPython.display import clear_output\n",
    "import tqdm\n",
    "\n",
    "all_preds = []\n",
    "for images_batch in tqdm.tqdm(image_generator):\n",
    "    preds_batch = model.predict(images_batch)\n",
    "    all_preds.extend(preds_batch)\n",
    "    \n",
    "    clear_output(wait=True)  # This will clear the output of the cell\n",
    "    \n",
    "    if image_generator.batch_index == 59:  # If we have seen all images break from the loop\n",
    "        break\n",
    "\n",
    "\n",
    "mean, std = inception_score(np.array(all_preds))\n",
    "print(\"Inception Score: \", mean, \"Standard Deviation: \", std)\n",
    "\n",
    "# Delete variables\n",
    "del all_preds\n",
    "del image_generator\n",
    "del preds_batch\n",
    "del images_batch\n",
    "from tensorflow.keras import backend as K\n",
    "K.clear_session()"
   ]
  },
  {
   "cell_type": "code",
   "execution_count": 3,
   "metadata": {},
   "outputs": [
    {
     "name": "stderr",
     "output_type": "stream",
     "text": [
      "\r 97%|█████████▋| 58/60 [02:45<00:05,  2.85s/it]"
     ]
    },
    {
     "name": "stdout",
     "output_type": "stream",
     "text": [
      "Inception Score:  21.590788 Standard Deviation:  1.7970413\n"
     ]
    },
    {
     "name": "stderr",
     "output_type": "stream",
     "text": [
      "\n"
     ]
    }
   ],
   "source": [
    "base_folder = f\"{base_dir}/cin_original/4\"  # Replace with the actual path to your images\n",
    "image_generator = load_images_in_batches(base_folder)\n",
    "\n",
    "from IPython.display import clear_output\n",
    "import tqdm\n",
    "\n",
    "all_preds = []\n",
    "for images_batch in tqdm.tqdm(image_generator):\n",
    "    preds_batch = model.predict(images_batch)\n",
    "    all_preds.extend(preds_batch)\n",
    "    \n",
    "    clear_output(wait=True)  # This will clear the output of the cell\n",
    "    \n",
    "    if image_generator.batch_index == 59:  # If we have seen all images break from the loop\n",
    "        break\n",
    "\n",
    "\n",
    "mean, std = inception_score(np.array(all_preds))\n",
    "print(\"Inception Score: \", mean, \"Standard Deviation: \", std)\n",
    "\n",
    "# Delete variables\n",
    "del all_preds\n",
    "del image_generator\n",
    "del preds_batch\n",
    "del images_batch\n",
    "from tensorflow.keras import backend as K\n",
    "K.clear_session()"
   ]
  },
  {
   "cell_type": "code",
   "execution_count": 2,
   "metadata": {},
   "outputs": [
    {
     "name": "stderr",
     "output_type": "stream",
     "text": [
      "\r 97%|█████████▋| 58/60 [02:38<00:05,  2.74s/it]"
     ]
    },
    {
     "name": "stdout",
     "output_type": "stream",
     "text": [
      "Inception Score:  61.990334 Standard Deviation:  5.558124\n"
     ]
    },
    {
     "name": "stderr",
     "output_type": "stream",
     "text": [
      "\n"
     ]
    }
   ],
   "source": [
    "base_folder = f\"{base_dir}/cin_original/8\"  # Replace with the actual path to your images\n",
    "image_generator = load_images_in_batches(base_folder)\n",
    "\n",
    "from IPython.display import clear_output\n",
    "import tqdm\n",
    "\n",
    "all_preds = []\n",
    "for images_batch in tqdm.tqdm(image_generator):\n",
    "    preds_batch = model.predict(images_batch)\n",
    "    all_preds.extend(preds_batch)\n",
    "    \n",
    "    clear_output(wait=True)  # This will clear the output of the cell\n",
    "    \n",
    "    if image_generator.batch_index == 59:  # If we have seen all images break from the loop\n",
    "        break\n",
    "\n",
    "\n",
    "mean, std = inception_score(np.array(all_preds))\n",
    "print(\"Inception Score: \", mean, \"Standard Deviation: \", std)\n",
    "\n",
    "# Delete variables\n",
    "del all_preds\n",
    "del image_generator\n",
    "del preds_batch\n",
    "del images_batch\n",
    "from tensorflow.keras import backend as K\n",
    "K.clear_session()"
   ]
  },
  {
   "cell_type": "code",
   "execution_count": 2,
   "metadata": {},
   "outputs": [
    {
     "name": "stderr",
     "output_type": "stream",
     "text": [
      "\r 97%|█████████▋| 58/60 [02:41<00:05,  2.78s/it]"
     ]
    },
    {
     "name": "stdout",
     "output_type": "stream",
     "text": [
      "Inception Score:  70.30769 Standard Deviation:  5.1062207\n"
     ]
    },
    {
     "name": "stderr",
     "output_type": "stream",
     "text": [
      "\n"
     ]
    }
   ],
   "source": [
    "base_folder = f\"{base_dir}/cin_original/16\"  # Replace with the actual path to your images\n",
    "image_generator = load_images_in_batches(base_folder)\n",
    "\n",
    "from IPython.display import clear_output\n",
    "import tqdm\n",
    "\n",
    "all_preds = []\n",
    "for images_batch in tqdm.tqdm(image_generator):\n",
    "    preds_batch = model.predict(images_batch)\n",
    "    all_preds.extend(preds_batch)\n",
    "    \n",
    "    clear_output(wait=True)  # This will clear the output of the cell\n",
    "    \n",
    "    if image_generator.batch_index == 59:  # If we have seen all images break from the loop\n",
    "        break\n",
    "\n",
    "mean, std = inception_score(np.array(all_preds))\n",
    "print(\"Inception Score: \", mean, \"Standard Deviation: \", std)\n",
    "\n",
    "# Delete variables\n",
    "del all_preds\n",
    "del image_generator\n",
    "del preds_batch\n",
    "del images_batch\n",
    "from tensorflow.keras import backend as K\n",
    "K.clear_session()"
   ]
  },
  {
   "cell_type": "code",
   "execution_count": 2,
   "metadata": {},
   "outputs": [
    {
     "name": "stderr",
     "output_type": "stream",
     "text": [
      " 97%|█████████▋| 58/60 [03:11<00:06,  3.30s/it]\n"
     ]
    },
    {
     "name": "stdout",
     "output_type": "stream",
     "text": [
      "Inception Score:  72.01982 Standard Deviation:  5.503975\n"
     ]
    }
   ],
   "source": [
    "base_folder = f\"{base_dir}/cin_original/32\"  # Replace with the actual path to your images\n",
    "image_generator = load_images_in_batches(base_folder)\n",
    "\n",
    "from IPython.display import clear_output\n",
    "import tqdm\n",
    "\n",
    "all_preds = []\n",
    "for images_batch in tqdm.tqdm(image_generator):\n",
    "    preds_batch = model.predict(images_batch)\n",
    "    all_preds.extend(preds_batch)\n",
    "    \n",
    "    clear_output(wait=True)  # This will clear the output of the cell\n",
    "    \n",
    "    if image_generator.batch_index == 59:  # If we have seen all images break from the loop\n",
    "        break\n",
    "\n",
    "\n",
    "mean, std = inception_score(np.array(all_preds))\n",
    "print(\"Inception Score: \", mean, \"Standard Deviation: \", std)\n",
    "\n",
    "# Delete variables\n",
    "del all_preds\n",
    "del image_generator\n",
    "del preds_batch\n",
    "del images_batch\n",
    "from tensorflow.keras import backend as K\n",
    "K.clear_session()"
   ]
  },
  {
   "cell_type": "code",
   "execution_count": 3,
   "metadata": {},
   "outputs": [
    {
     "name": "stderr",
     "output_type": "stream",
     "text": [
      "\r 97%|█████████▋| 58/60 [02:34<00:05,  2.66s/it]"
     ]
    },
    {
     "name": "stdout",
     "output_type": "stream",
     "text": [
      "Inception Score:  72.438385 Standard Deviation:  5.832499\n"
     ]
    },
    {
     "name": "stderr",
     "output_type": "stream",
     "text": [
      "\n"
     ]
    }
   ],
   "source": [
    "base_folder = f\"{base_dir}/cin_original/64\"  # Replace with the actual path to your images\n",
    "image_generator = load_images_in_batches(base_folder)\n",
    "\n",
    "from IPython.display import clear_output\n",
    "import tqdm\n",
    "\n",
    "all_preds = []\n",
    "for images_batch in tqdm.tqdm(image_generator):\n",
    "    preds_batch = model.predict(images_batch)\n",
    "    all_preds.extend(preds_batch)\n",
    "    \n",
    "    clear_output(wait=True)  # This will clear the output of the cell\n",
    "    \n",
    "    if image_generator.batch_index == 59:  # If we have seen all images break from the loop\n",
    "        break\n",
    "\n",
    "\n",
    "mean, std = inception_score(np.array(all_preds))\n",
    "print(\"Inception Score: \", mean, \"Standard Deviation: \", std)\n",
    "\n",
    "# Delete variables\n",
    "del all_preds\n",
    "del image_generator\n",
    "del preds_batch\n",
    "del images_batch\n",
    "from tensorflow.keras import backend as K\n",
    "K.clear_session()"
   ]
  }
 ],
 "metadata": {
  "kernelspec": {
   "display_name": "D-SD",
   "language": "python",
   "name": "python3"
  },
  "language_info": {
   "codemirror_mode": {
    "name": "ipython",
    "version": 3
   },
   "file_extension": ".py",
   "mimetype": "text/x-python",
   "name": "python",
   "nbconvert_exporter": "python",
   "pygments_lexer": "ipython3",
   "version": "3.9.18"
  },
  "orig_nbformat": 4
 },
 "nbformat": 4,
 "nbformat_minor": 2
}
